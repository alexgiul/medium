{
 "cells": [
  {
   "cell_type": "markdown",
   "metadata": {
    "collapsed": true
   },
   "source": [
    "https://www.oreilly.com/learning/algorithmic-trading-in-less-than-100-lines-of-python-code\n",
    "https://dannyvankooten.com/backtesting-12-month-sma-investing-strategy-pandas/\n"
   ]
  },
  {
   "cell_type": "code",
   "execution_count": null,
   "metadata": {},
   "outputs": [],
   "source": [
    "https://dannyvankooten.com/backtesting-12-month-sma-investing-strategy-pandas/\n"
   ]
  },
  {
   "cell_type": "code",
   "execution_count": 34,
   "metadata": {},
   "outputs": [],
   "source": [
    "import requests\n",
    "from datetime import date\n",
    "import json\n",
    "# [oanda]\n",
    "instrument = 'XAU_USD'\n",
    "instrument = 'NATGAS_USD'\n",
    "instrument = 'WTICO_USD'\n",
    "\n",
    "access_token = '00f206dcbcca268040de902e9da10ea5-85f7af8ad9febfc042ffa45ff55229ce'\n",
    "OANDA_PRACTICE_URL = 'https://api-fxpractice.oanda.com'\n",
    "\n",
    "headers = {\n",
    "    'Content-Type': 'application/json',\n",
    "    'Authorization': 'Bearer %s' % access_token,\n",
    "}\n",
    "todays_date = date.today()  # retreived in YYYY-MM-DD format\n",
    "datetime_str = todays_date.strftime('%Y-%m-%d')\n",
    "\n",
    "# https://developer.oanda.com/rest-live-v20/instrument-ep/\n",
    "# https://developer.oanda.com/rest-live-v20/instrument-df/#CandlestickGranularity\n",
    "params = (\n",
    "    # ('price', 'MBA'),\n",
    "    ('price', 'M'),\n",
    "    # ('from', '2018-08-01T15:00:00.000000000Z'),\n",
    "    ('to', '%sT01:00:00.000000000Z' % datetime_str),\n",
    "    # ('granularity', 'M1'),\n",
    "    ('granularity', 'H1'),\n",
    "    #('granularity', 'D'),\n",
    "    ('count', '5000') # default = 500, max = 5000\n",
    ")\n",
    "\n",
    "response = requests.get('%s/v3/instruments/%s/candles' % (OANDA_PRACTICE_URL, instrument), headers=headers, params=params)\n",
    "if response.status_code != 200:\n",
    "    print(\"Unable to retrieve response\", response)\n",
    "    raise Exception(\"Unable to retrieve response from OANDA\")\n",
    "\n",
    "data = json.loads(response.content.decode())\n"
   ]
  },
  {
   "cell_type": "code",
   "execution_count": 4,
   "metadata": {},
   "outputs": [
    {
     "name": "stdout",
     "output_type": "stream",
     "text": [
      "                      Open   High    Low  Close  Volume\ntime                                                   \n2003-03-23 22:00:00  882.7  883.2  861.9  864.4     823\n2003-03-24 22:00:00  863.4  880.4  857.6  874.2     815\n2003-03-25 22:00:00  874.4  876.7  866.6  869.6     791\n2003-03-26 22:00:00  867.6  874.9  858.1  868.9     770\n2003-03-27 22:00:00  870.1  870.4  860.8  863.9     787\n"
     ]
    }
   ],
   "source": [
    "import pickle\n",
    "import pandas as pd\n",
    "import math\n",
    "import backtrader as bt\n",
    "import backtrader.feeds as btfeeds\n",
    "from collections import OrderedDict\n",
    "\n",
    "instrument = \"SPX500_USD\"\n",
    "import os\n",
    "with open(os.getcwd() + \"/trader-platform/trader-platform-modules/tests/\" + instrument+ \".pk\", 'rb') as f:\n",
    "    data = pickle.load(f)\n",
    "\n",
    "df = pd.DataFrame(data).set_index('time')  # 8\n",
    "df.index = pd.DatetimeIndex(df.index)  # 9\n",
    "\n",
    "o = []\n",
    "h = []\n",
    "l = []\n",
    "c = []\n",
    "\n",
    "for index, item in df.iterrows():\n",
    "    ohlc = df['mid'][index]\n",
    "    o.append(  float(ohlc['o']) )\n",
    "    h.append(  float(ohlc['h']) )\n",
    "    l.append(  float(ohlc['l']) )\n",
    "    c.append(  float(ohlc['c']) ) \n",
    "\n",
    "df['Open'] = o\n",
    "df['High'] = h\n",
    "df['Low']  = l\n",
    "df['Close'] = c\n",
    "\n",
    "df.rename(columns={\"volume\": \"Volume\"}, inplace = True)\n",
    "df.drop(columns=['complete', 'mid'], inplace = True)\n",
    "df = df[['Open', 'High', 'Low', 'Close', 'Volume']]\n",
    "\n",
    "#print(df.info())\n",
    "print(df.head())"
   ]
  },
  {
   "cell_type": "code",
   "execution_count": null,
   "metadata": {
    "collapsed": false
   },
   "outputs": [],
   "source": [
    "\n",
    "class SLTPTracking(bt.Observer):\n",
    "    lines = ('stop', 'take')\n",
    "\n",
    "    plotinfo = dict(plot=True, subplot=False)\n",
    "\n",
    "    plotlines = dict(stop=dict(ls=':', linewidth=1.5),\n",
    "                     take=dict(ls=':', linewidth=1.5))\n",
    "\n",
    "    def next(self):\n",
    "        if self._owner.sl_price != 0.0:\n",
    "            self.lines.stop[0] = self._owner.sl_price\n",
    "\n",
    "        if self._owner.tp_price != 0.0:\n",
    "            self.lines.take[0] = self._owner.tp_price\n",
    "\n",
    "\n",
    "class PriceMomentum(bt.Strategy):\n",
    "    '''\n",
    "    Entry rules:\n",
    "        1. Go long  if:\n",
    "            a. Current bar's close is greater than X bar ago and close price crosses over lowest bollinger band\n",
    "        2. Sell short if:\n",
    "            a. Current bar's close is lower than X bar ago and close price crosses under highest bollinger band\n",
    "\n",
    "    Channel Breakout exit rules:\n",
    "\n",
    "    Setup:\n",
    "      Bollinger Bands:\n",
    "        - lenght: 20\n",
    "        - dev standard: 1\n",
    "      X: 10\n",
    "\n",
    "    Order Execution Type:\n",
    "      - Market\n",
    "    Notes:\n",
    "    '''\n",
    "    params = (\n",
    "        ('printlog', True),        \n",
    "        (\"period\", 20),\n",
    "        (\"devfactor\", 1),\n",
    "        (\"atr\",2),\n",
    "        (\"channel_lenght\", 10)\n",
    "    )\n",
    "\n",
    "    def __init__(self):\n",
    "\n",
    "        self.order = None\n",
    "        # Add a ATR indicator for volatility measure\n",
    "        self.atr = bt.indicators.ATR(self.datas[0], period=20)\n",
    "\n",
    "        # Bollinger Bands\n",
    "        self.boll = bt.indicators.BollingerBands(period=self.p.period, devfactor=self.p.devfactor)\n",
    "        \n",
    "        self.cross_down = bt.indicators.CrossDown(self.data.close, self.boll.lines.top)\n",
    "        self.cross_up = bt.indicators.CrossUp(self.data.close, self.boll.lines.bot)\n",
    "        \n",
    "        self.cross_down.plotinfo.plotskip=True\n",
    "        self.cross_up.plotinfo.plotskip=True\n",
    "\n",
    "        self.sl_price, self.tp_price = 0.0, 0.0\n",
    "        # an array where each operation (buy/sell) will be stored for further analysis\n",
    "        self.orders_tracking = OrderedDict()\n",
    "\n",
    "    def notify_order(self, order):\n",
    "        if order.status in [order.Submitted, order.Accepted]:\n",
    "            return\n",
    "        # Check if an order has been completed\n",
    "        # Attention: broker could reject order if not enough cash\n",
    "        if order.status in [order.Completed]:\n",
    "            ep = order.executed.price\n",
    "            es = order.executed.size\n",
    "            tv = ep * es\n",
    "            leverage = self.broker.getcommissioninfo(self.data).get_leverage()\n",
    "            margin = abs((ep * es) / leverage)\n",
    "\n",
    "\n",
    "            if order.isbuy():\n",
    "                self.log(\n",
    "                    '%s - BUY EXECUTED on %s, Price: %.2f, Size: %.2f, Comm %.2f, Margin %.2f' %\n",
    "                    (self.data0._name,\n",
    "                     order.info['name'],\n",
    "                     order.executed.price,\n",
    "                     order.executed.size,\n",
    "                     order.executed.comm,\n",
    "                     margin))\n",
    "\n",
    "            else:  # Sell\n",
    "                self.log(\n",
    "                    '%s - SELL EXECUTED on %s, Price: %.2f, Size: %.2f, Comm %.2f, Margin %.2f' %\n",
    "                    (self.data0._name,\n",
    "                        order.info['name'],\n",
    "                     order.executed.price,\n",
    "                     order.executed.size,\n",
    "                     order.executed.comm,\n",
    "                     margin))\n",
    "\n",
    "            # track all operation\n",
    "            obj = (\n",
    "                self.datas[0].datetime.date(0).isoformat(),\n",
    "                \"BUY\" if order.isbuy() else \"SELL\",\n",
    "                order.info['name'],\n",
    "                order.executed.price,\n",
    "                order.executed.value,\n",
    "                order.executed.comm,\n",
    "                order.size\n",
    "            )\n",
    "            #self.orders_tracking[self.datas[0].datetime.date(0).isoformat()] = obj\n",
    "\n",
    "        elif order.status in [order.Canceled, order.Margin, order.Rejected]:\n",
    "            self.log('Order Canceled/Margin/Rejected')\n",
    "        # Write down: no pending order\n",
    "        self.order = None\n",
    "\n",
    "    def next(self):\n",
    "        # Simply log the closing price of the series from the reference\n",
    "        #self.log('Close, %.2f' % self.data.close[0])\n",
    "\n",
    "        # Check if an order is pending ... if yes, we cannot send a 2nd one\n",
    "        if self.order:\n",
    "            return\n",
    "        \n",
    "        if not self.position:\n",
    "            self.sl_price = math.nan\n",
    "            if self.data.close > self.data.close[-self.p.channel_lenght] and self.cross_up:\n",
    " \n",
    "                #self.sell(exectype=bt.Order.Stop, price=self.boll.lines.top[0], size=self.p.size)\n",
    "                self.order = self.buy()\n",
    "                self.order.addinfo(name=\"Market Order\")\n",
    "\n",
    " \n",
    "            if self.data.close < self.data.close[-self.p.channel_lenght] and self.cross_down:\n",
    "                #self.buy(exectype=bt.Order.Stop, price=self.boll.lines.bot[0], size=self.p.size)\n",
    "                self.order = self.sell()\n",
    "                self.order.addinfo(name=\"Market Order\")\n",
    "\n",
    " \n",
    "        else:\n",
    "            \n",
    "            if self.position.size > 0:\n",
    "                if self.data_close[-1] < self.boll.lines.top[-1] and self.data_close[0] > self.boll.lines.top[0]:\n",
    "                    self.order = self.close()\n",
    "                    self.order.addinfo(name=\"Market Order - Close Long\")\n",
    "                    \n",
    "            if self.position.size < 0:\n",
    "                if self.data_close[-1] > self.boll.lines.bot[-1] and self.data_close[0] < self.boll.lines.bot[0]:\n",
    "                    self.order = self.close()\n",
    "                    self.order.addinfo(name=\"Market Order - Close Short\")\n",
    "\n",
    "            # Stop 1 - fixed stop loss based on volatility measure\n",
    "            if self.position.size > 0:\n",
    "                stop_price = self.position.price - self.p.atr * self.atr[-1]\n",
    "                if self.data.close[0] < stop_price:  # stop loss in case of LONG\n",
    "                    self.order = self.close()\n",
    "                    self.order.addinfo(name=\"Stop Loss Long\")\n",
    "            elif self.position.size < 0:\n",
    "                stop_price = self.position.price + self.p.atr * self.atr[-1]\n",
    "                if self.data.close[0] > stop_price:  # stop loss in case of LONG\n",
    "                    self.order = self.close()\n",
    "                    self.order.addinfo(name=\"Stop Loss Short\")\n",
    "\n",
    "            self.sl_price = stop_price\n",
    " \n",
    " \n",
    "        if self.p.printlog and 0:\n",
    "            print('---------------------------- NEXT ----------------------------------')\n",
    "            print(\"1: Data Name:                            {}\".format(instrument))\n",
    "            print(\"2: Bar Num:                              {}\".format(len(self.data)))\n",
    "            #print(\"3: Current date:                         {}\".format(data.datetime.date(0).isoformat()   ))\n",
    "            print('4: Open:                                 {}'.format(self.data.open[0]))\n",
    "            print('5: High:                                 {}'.format(self.data.high[0]))\n",
    "            print('6: Low:                                  {}'.format(self.data.low[0]))\n",
    "            print('7: Close:                                {}'.format(self.data.close[0]))\n",
    "            print('8: Volume:                               {}'.format(self.data.volume[0]))\n",
    "            print('9: Position Size:                       {}'.format(self.position.size))\n",
    "            print('--------------------------------------------------------------------')\n",
    " \n",
    "    def notify_trade(self,trade):\n",
    "        if trade.isclosed and self.p.printlog is True:\n",
    "            dt = self.data.datetime.date()\n",
    " \n",
    "            print('---------------------------- TRADE ---------------------------------')\n",
    "            print(\"1: Data Name:                            {}\".format(instrument))\n",
    "            print(\"2: Bar Num:                              {}\".format(len(trade.data)))\n",
    "            print(\"3: Current date:                         {}\".format(dt))\n",
    "            print('4: Status:                               Trade Complete')\n",
    "            print('5: Ref:                                  {}'.format(trade.ref))\n",
    "            print('6: PnL:                                  {}'.format(round(trade.pnl,2)))\n",
    "            print('--------------------------------------------------------------------')\n",
    "\n",
    "\n",
    "    def log(self, txt, dt=None, doprint=False):\n",
    "        ''' Logging function fot this strategy'''\n",
    "        if self.params.printlog or doprint:\n",
    "            dt = dt or self.datas[0].datetime.date(0)\n",
    "            print('%s, %s' % (dt.isoformat(), txt))\n",
    "\n",
    "\n",
    "import numpy\n",
    "datafeed = btfeeds.PandasData(dataname=df)\n",
    "\n",
    "channel_lengths  = numpy.arange(5, 30, 5, dtype=int).tolist()\n",
    "\n",
    "for channel_length in channel_lengths:    \n",
    "    # Create an instance of cerebro\n",
    "    cerebro = bt.Cerebro(stdstats=True)\n",
    "    # Set our desired cash start\n",
    "    startcash = 1000\n",
    "    cerebro.broker.setcash(startcash)\n",
    "    \n",
    "    # https://www.backtrader.com/docu/commission-schemes/commission-schemes/\n",
    "    # https://backtest-rookies.com/2017/09/26/backtrader-commission-schemes/\n",
    "    value_per_tick = 0.01  # value per tick see Trading Plan tables\n",
    "    decimal_digit_number = 2  # number of decimal digit after point\n",
    "    cerebro.broker.setcommission(commission=2, margin=65,mult=value_per_tick / (10 ** -decimal_digit_number))\n",
    "    \n",
    "    # Analyzer\n",
    "    cerebro.addanalyzer(bt.analyzers.DrawDown, _name='dd')\n",
    "    cerebro.addanalyzer(bt.analyzers.TradeAnalyzer, _name='ta')\n",
    "    \n",
    "    cerebro.addanalyzer(bt.analyzers.SharpeRatio,  _name=\"mySharpe\",  riskfreerate=0.01,     timeframe=bt.TimeFrame.Months)\n",
    "    cerebro.addanalyzer(bt.analyzers.AnnualReturn, _name=\"myReturn\")\n",
    "    cerebro.addanalyzer(bt.analyzers.SQN, _name=\"mySqn\")\n",
    "    \n",
    "    cerebro.addobserver(SLTPTracking)\n",
    "    \n",
    "    # Add the strategy\n",
    "    cerebro.addstrategy(PriceMomentum,printlog=False,atr=2,\n",
    "                        channel_lenght=channel_length, devfactor=1, period=20 )\n",
    "    \n",
    "    # Add the data to Cerebro\n",
    "    cerebro.adddata(datafeed,name=instrument)\n",
    "    \n",
    "    # Run over everything\n",
    "    strategies = cerebro.run()\n",
    "    #first_strategy = strategies[0]\n",
    "    \n",
    "    #Get final portfolio Value\n",
    "    portvalue = cerebro.broker.getvalue()\n",
    "    pnl = portvalue - startcash\n",
    "     \n",
    "    #Print out the final result\n",
    "    #print('Final Portfolio Value: ${}'.format(round(portvalue,2)))\n",
    "    print('P/L: ${}'.format(round(pnl,2)))\n",
    " \n"
   ]
  },
  {
   "cell_type": "code",
   "execution_count": 39,
   "metadata": {
    "collapsed": true
   },
   "outputs": [
    {
     "name": "stdout",
     "output_type": "stream",
     "text": [
      "P/L: $-177.7"
     ]
    },
    {
     "name": "stdout",
     "output_type": "stream",
     "text": [
      "\n"
     ]
    },
    {
     "name": "stdout",
     "output_type": "stream",
     "text": [
      "P/L: $-71.48"
     ]
    },
    {
     "name": "stdout",
     "output_type": "stream",
     "text": [
      "\n"
     ]
    },
    {
     "name": "stdout",
     "output_type": "stream",
     "text": [
      "P/L: $-36.12"
     ]
    },
    {
     "name": "stdout",
     "output_type": "stream",
     "text": [
      "\n"
     ]
    },
    {
     "name": "stdout",
     "output_type": "stream",
     "text": [
      "P/L: $-60.53"
     ]
    },
    {
     "name": "stdout",
     "output_type": "stream",
     "text": [
      "\n"
     ]
    },
    {
     "name": "stdout",
     "output_type": "stream",
     "text": [
      "P/L: $-91.92"
     ]
    },
    {
     "name": "stdout",
     "output_type": "stream",
     "text": [
      "\n"
     ]
    }
   ],
   "source": [
    ""
   ]
  },
  {
   "cell_type": "code",
   "execution_count": null,
   "metadata": {},
   "outputs": [],
   "source": [
    "# Finally plot the end results\n",
    "cerebro.plot(iplot=False, style='candlestick')"
   ]
  },
  {
   "cell_type": "code",
   "execution_count": 13,
   "metadata": {},
   "outputs": [
    {
     "data": {
      "text/plain": [
       "HBox(children=(IntProgress(value=0), HTML(value='')))"
      ]
     },
     "execution_count": 0,
     "metadata": {},
     "output_type": "execute_result"
    }
   ],
   "source": [
    ""
   ]
  },
  {
   "cell_type": "code",
   "execution_count": null,
   "metadata": {},
   "outputs": [],
   "source": []
  }
 ],
 "metadata": {
  "kernelspec": {
   "display_name": "Python 2",
   "language": "python",
   "name": "python2"
  },
  "language_info": {
   "codemirror_mode": {
    "name": "ipython",
    "version": 2
   },
   "file_extension": ".py",
   "mimetype": "text/x-python",
   "name": "python",
   "nbconvert_exporter": "python",
   "pygments_lexer": "ipython2",
   "version": "2.7.6"
  }
 },
 "nbformat": 4,
 "nbformat_minor": 0
}
