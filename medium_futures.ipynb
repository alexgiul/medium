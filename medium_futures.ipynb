{
 "cells": [
  {
   "cell_type": "code",
   "execution_count": 1,
   "metadata": {},
   "outputs": [
    {
     "name": "stdout",
     "output_type": "stream",
     "text": [
      "Collecting quandl\n  Downloading https://files.pythonhosted.org/packages/07/ab/8cd479fba8a9b197a43a0d55dd534b066fb8e5a0a04b5c0384cbc5d663aa/Quandl-3.5.0-py2.py3-none-any.whl\nRequirement already satisfied: more-itertools in c:\\users\\bit00452\\wpy-3670\\python-3.6.7.amd64\\lib\\site-packages (from quandl) (4.3.0)\nRequirement already satisfied: python-dateutil in c:\\users\\bit00452\\wpy-3670\\python-3.6.7.amd64\\lib\\site-packages (from quandl) (2.7.5)\nRequirement already satisfied: six in c:\\users\\bit00452\\wpy-3670\\python-3.6.7.amd64\\lib\\site-packages (from quandl) (1.11.0)\nRequirement already satisfied: inflection>=0.3.1 in c:\\users\\bit00452\\wpy-3670\\python-3.6.7.amd64\\lib\\site-packages (from quandl) (0.3.1)\nRequirement already satisfied: numpy>=1.8 in c:\\users\\bit00452\\wpy-3670\\python-3.6.7.amd64\\lib\\site-packages (from quandl) (1.18.1)\nRequirement already satisfied: pandas>=0.14 in c:\\users\\bit00452\\wpy-3670\\python-3.6.7.amd64\\lib\\site-packages (from quandl) (0.25.3)\nRequirement already satisfied: requests>=2.7.0 in c:\\users\\bit00452\\wpy-3670\\python-3.6.7.amd64\\lib\\site-packages (from quandl) (2.22.0)\nRequirement already satisfied: pytz>=2017.2 in c:\\users\\bit00452\\wpy-3670\\python-3.6.7.amd64\\lib\\site-packages (from pandas>=0.14->quandl) (2018.6)\nRequirement already satisfied: certifi>=2017.4.17 in c:\\users\\bit00452\\wpy-3670\\python-3.6.7.amd64\\lib\\site-packages (from requests>=2.7.0->quandl) (2018.10.15)\nRequirement already satisfied: chardet<3.1.0,>=3.0.2 in c:\\users\\bit00452\\wpy-3670\\python-3.6.7.amd64\\lib\\site-packages (from requests>=2.7.0->quandl) (3.0.4)\nRequirement already satisfied: urllib3!=1.25.0,!=1.25.1,<1.26,>=1.21.1 in c:\\users\\bit00452\\wpy-3670\\python-3.6.7.amd64\\lib\\site-packages (from requests>=2.7.0->quandl) (1.24)\nRequirement already satisfied: idna<2.9,>=2.5 in c:\\users\\bit00452\\wpy-3670\\python-3.6.7.amd64\\lib\\site-packages (from requests>=2.7.0->quandl) (2.7)\nInstalling collected packages: quandl\nSuccessfully installed quandl-3.5.0\n"
     ]
    }
   ],
   "source": [
    "# Install a pip package in the current Jupyter kernel\n",
    "import sys\n",
    "!{sys.executable} -m pip install quandl"
   ]
  },
  {
   "cell_type": "code",
   "execution_count": 1,
   "metadata": {
    "collapsed": true
   },
   "outputs": [],
   "source": [
    "import quandl\n",
    "import matplotlib.pyplot as plt\n",
    "%matplotlib inline\n",
    "\n",
    "quandl_authtoken = \"....\"   # <--- replace with your quandl token \n",
    "\n",
    "df_ym = quandl.get(\"CHRIS/CME_YM1\", authtoken=quandl_authtoken, start_date=\"2010-1-1\")  #dow jones\n",
    "df_vix = quandl.get(\"CHRIS/CBOE_VX1\", authtoken=quandl_authtoken, start_date=\"2007-1-1\")\n",
    "df_sp = quandl.get(\"CHRIS/CME_SP1\", authtoken=quandl_authtoken, start_date=\"2010-1-1\")\n",
    "\n",
    "df_c = quandl.get(\"CHRIS/CME_C1\", authtoken=quandl_authtoken, start_date=\"2010-1-1\")    # corn\n",
    "df_w = quandl.get(\"CHRIS/CME_W1\", authtoken=quandl_authtoken, start_date=\"2010-1-1\")    # wheat\n",
    "\n"
   ]
  },
  {
   "cell_type": "code",
   "execution_count": 9,
   "metadata": {},
   "outputs": [
    {
     "name": "stdout",
     "output_type": "stream",
     "text": [
      "             Open   High    Low  Close  Settle  Change  Total Volume  EFP  \\\nTrade Date                                                                  \n2007-01-03  123.0  123.0  123.0  123.0   123.0     0.0           0.0  0.0   \n2007-01-04  122.7  124.5  120.6  121.5   121.1    -1.0         287.0  0.0   \n2007-01-05  121.9  124.4  121.9  123.9   123.8     2.7         161.0  0.0   \n2007-01-08  124.2  125.6  122.1  122.7   122.5    -1.3         443.0  0.0   \n2007-01-09  122.8  125.0  121.0  123.7   123.4     0.9         408.0  0.0   \n\n            Prev. Day Open Interest  \nTrade Date                           \n2007-01-03                   4618.0  \n2007-01-04                   4533.0  \n2007-01-05                   4431.0  \n2007-01-08                   4691.0  \n2007-01-09                   4100.0  \n"
     ]
    }
   ],
   "source": [
    "# Augmented dicker-fuller test\n",
    "df = df_ym  # dow jones\n",
    "df = df_vix# vix\n",
    "\n",
    "\n",
    "#print(df.tail())\n",
    "print(df.head())"
   ]
  },
  {
   "cell_type": "code",
   "execution_count": 10,
   "metadata": {
    "collapsed": true
   },
   "outputs": [
    {
     "name": "stdout",
     "output_type": "stream",
     "text": [
      "[0.04861855978842489, 0.00047394013983813766, 0.026990775480773353, 0.000943996392451455]\n"
     ]
    }
   ],
   "source": [
    "\n",
    "from statsmodels.tsa.stattools import adfuller\n",
    "\n",
    "def adf_test(timeseries):\n",
    "    adft = adfuller(timeseries, autolag='AIC')\n",
    "    return adft[1]\n",
    "\n",
    "#####################################################################################\n",
    "# windows of trading days\n",
    "periods = [ 125, 250, 750, 1250]    # 6 months, 1 year, 3 years, 5 years\n",
    "\n",
    "adfs = []\n",
    "\n",
    "for period in periods:\n",
    "    # augmented dicker fuller test\n",
    "    adft = adf_test(df.Settle[-period:])    # take last \"period\" samples\n",
    "    adfs.append(adft) \n",
    "\n",
    "print(adfs)"
   ]
  },
  {
   "cell_type": "code",
   "execution_count": 193,
   "metadata": {},
   "outputs": [],
   "source": [
    "# Hurst Exponent"
   ]
  },
  {
   "cell_type": "code",
   "execution_count": 11,
   "metadata": {},
   "outputs": [
    {
     "name": "stdout",
     "output_type": "stream",
     "text": [
      "[0.4420116516690187, 0.33866901051641013, 0.48763408474867265, 0.4627092901738934]\n"
     ]
    }
   ],
   "source": [
    "from hurst import compute_Hc\n",
    "\n",
    "hursts = []\n",
    "for period in periods:\n",
    "    # Evaluate Hurst equation\n",
    "    if len(df.Settle[-period:]) < 100:\n",
    "        H = c= 0\n",
    "    else:\n",
    "        H, c, data = compute_Hc(df.Settle[-period:], kind='price', simplified=True)\n",
    "\n",
    "    hursts.append(H)\n",
    "\n",
    "print(hursts)\n"
   ]
  },
  {
   "cell_type": "code",
   "execution_count": 12,
   "metadata": {},
   "outputs": [
    {
     "data": {
      "image/png": "[encoded data removed]",
      "text/plain": [
       "<Figure size 720x360 with 2 Axes>"
      ]
     },
     "metadata": {},
     "output_type": "display_data"
    }
   ],
   "source": [
    "import numpy as np\n",
    "\n",
    "objects = ( '6m', '1y', '3y', '5y')\n",
    "y_pos = np.arange(len(objects))\n",
    "\n",
    "\n",
    "f, (ax1, ax2) = plt.subplots(1, 2, figsize=(10, 5))\n",
    "\n",
    "\n",
    "ax1.bar(y_pos, adfs, align='center', alpha=0.5)\n",
    "ax1.axhline(y=0.10,linewidth=2, color='r')\n",
    "\n",
    "ax1.grid(True)\n",
    "\n",
    "ax2.bar(y_pos, hursts, align='center', alpha=0.5)\n",
    "ax2.axhline(y=0.50,linewidth=2, color='r')\n",
    "\n",
    "ax2.grid(True)\n",
    "# Set the ticks and ticklabels for all axes\n",
    "plt.setp(ax1, xticks=range(len(objects)), xticklabels=objects)\n",
    "plt.setp(ax2, xticks=range(len(objects)), xticklabels=objects)\n",
    "\n",
    "\n",
    "ax1.set_title('Augmented Dickey-Fuller Test (p-value)')\n",
    "ax2.set_title('Hurst Exponent')\n",
    "\n",
    "plt.show()\n"
   ]
  },
  {
   "cell_type": "code",
   "execution_count": null,
   "metadata": {},
   "outputs": [],
   "source": []
  }
 ],
 "metadata": {
  "kernelspec": {
   "display_name": "Python 2",
   "language": "python",
   "name": "python2"
  },
  "language_info": {
   "codemirror_mode": {
    "name": "ipython",
    "version": 2
   },
   "file_extension": ".py",
   "mimetype": "text/x-python",
   "name": "python",
   "nbconvert_exporter": "python",
   "pygments_lexer": "ipython2",
   "version": "2.7.6"
  }
 },
 "nbformat": 4,
 "nbformat_minor": 0
}
